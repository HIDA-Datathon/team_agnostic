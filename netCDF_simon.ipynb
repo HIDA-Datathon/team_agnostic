{
 "cells": [
  {
   "cell_type": "code",
   "execution_count": 1,
   "metadata": {},
   "outputs": [],
   "source": [
    "from netCDF4 import Dataset\n",
    "import cartopy.crs as ccrs\n",
    "import numpy as np\n",
    "import matplotlib.pyplot as plt\n",
    "import seaborn as sns"
   ]
  },
  {
   "cell_type": "markdown",
   "metadata": {},
   "source": [
    "# EDA"
   ]
  },
  {
   "cell_type": "code",
   "execution_count": 2,
   "metadata": {},
   "outputs": [
    {
     "ename": "FileNotFoundError",
     "evalue": "[Errno 2] No such file or directory: b'data/Volc_Forc_AOD_1st_mill.nc'",
     "output_type": "error",
     "traceback": [
      "\u001b[0;31m---------------------------------------------------------------------------\u001b[0m",
      "\u001b[0;31mFileNotFoundError\u001b[0m                         Traceback (most recent call last)",
      "\u001b[0;32m<ipython-input-2-70cd21169a30>\u001b[0m in \u001b[0;36m<module>\u001b[0;34m\u001b[0m\n\u001b[0;32m----> 1\u001b[0;31m \u001b[0mVUL\u001b[0m \u001b[0;34m=\u001b[0m  \u001b[0mDataset\u001b[0m\u001b[0;34m(\u001b[0m\u001b[0;34m'data/Volc_Forc_AOD_1st_mill.nc'\u001b[0m\u001b[0;34m,\u001b[0m \u001b[0;34m'r'\u001b[0m\u001b[0;34m)\u001b[0m\u001b[0;34m[\u001b[0m\u001b[0;34m'AOD'\u001b[0m\u001b[0;34m]\u001b[0m\u001b[0;34m[\u001b[0m\u001b[0;34m:\u001b[0m\u001b[0;34m,\u001b[0m \u001b[0;36m0\u001b[0m\u001b[0;34m,\u001b[0m \u001b[0;36m0\u001b[0m\u001b[0;34m]\u001b[0m\u001b[0;34m\u001b[0m\u001b[0;34m\u001b[0m\u001b[0m\n\u001b[0m\u001b[1;32m      2\u001b[0m \u001b[0mSUN\u001b[0m \u001b[0;34m=\u001b[0m  \u001b[0mDataset\u001b[0m\u001b[0;34m(\u001b[0m\u001b[0;34m'data/Solar_forcing_1st_mill.nc'\u001b[0m\u001b[0;34m,\u001b[0m \u001b[0;34m'r'\u001b[0m\u001b[0;34m)\u001b[0m\u001b[0;34m[\u001b[0m\u001b[0;34m'TSI'\u001b[0m\u001b[0;34m]\u001b[0m\u001b[0;34m[\u001b[0m\u001b[0;34m:\u001b[0m\u001b[0;34m,\u001b[0m \u001b[0;36m0\u001b[0m\u001b[0;34m,\u001b[0m \u001b[0;36m0\u001b[0m\u001b[0;34m]\u001b[0m\u001b[0;34m\u001b[0m\u001b[0;34m\u001b[0m\u001b[0m\n",
      "\u001b[0;32mnetCDF4/_netCDF4.pyx\u001b[0m in \u001b[0;36mnetCDF4._netCDF4.Dataset.__init__\u001b[0;34m()\u001b[0m\n",
      "\u001b[0;32mnetCDF4/_netCDF4.pyx\u001b[0m in \u001b[0;36mnetCDF4._netCDF4._ensure_nc_success\u001b[0;34m()\u001b[0m\n",
      "\u001b[0;31mFileNotFoundError\u001b[0m: [Errno 2] No such file or directory: b'data/Volc_Forc_AOD_1st_mill.nc'"
     ]
    }
   ],
   "source": [
    "VUL =  Dataset('data/Volc_Forc_AOD_1st_mill.nc', 'r')['AOD'][:, 0, 0]\n",
    "SUN =  Dataset('data/Solar_forcing_1st_mill.nc', 'r')['TSI'][:, 0, 0]\n"
   ]
  },
  {
   "cell_type": "markdown",
   "metadata": {},
   "source": [
    "## Target Data"
   ]
  },
  {
   "cell_type": "code",
   "execution_count": null,
   "metadata": {},
   "outputs": [],
   "source": [
    "fig, axes = plt.subplots(1, 2, figsize=(15,5))\n",
    "axes[0].plot(SUN)\n",
    "axes[0].set_title('Sun activity')\n",
    "axes[1].plot(VUL, '-o')\n",
    "axes[1].set_title('Volcanic activity')"
   ]
  },
  {
   "cell_type": "markdown",
   "metadata": {},
   "source": [
    "## Temperature Data"
   ]
  },
  {
   "cell_type": "code",
   "execution_count": null,
   "metadata": {},
   "outputs": [],
   "source": [
    "# unpacking variables\n",
    "R1 =  Dataset('data/T2m_R1_ym_1stMill.nc', 'r')\n",
    "temperature = R1.variables['T2m'][:]\n",
    "lat = R1.variables['lat'][:]\n",
    "lon = R1.variables['lon'][:]"
   ]
  },
  {
   "cell_type": "code",
   "execution_count": null,
   "metadata": {},
   "outputs": [],
   "source": [
    "global_temp = np.mean(temperature)\n",
    "std_temp = np.std(temperature)"
   ]
  },
  {
   "cell_type": "code",
   "execution_count": null,
   "metadata": {},
   "outputs": [],
   "source": [
    "temperature_norm = (temperature - global_temp) / std_temp"
   ]
  },
  {
   "cell_type": "code",
   "execution_count": null,
   "metadata": {},
   "outputs": [],
   "source": []
  },
  {
   "cell_type": "code",
   "execution_count": null,
   "metadata": {},
   "outputs": [],
   "source": [
    "fig, axes = plt.subplots(1, 2, figsize=(15, 5), subplot_kw={'projection': ccrs.Miller()})\n",
    "for kk in [0, 1]:\n",
    "    axes[kk].set_global()\n",
    "    axes[kk].coastlines()\n",
    "\n",
    "axes[0].contourf(lon, lat, temperature_norm[0], transform=ccrs.PlateCarree(), cmap='coolwarm')  # didn't use transform, but looks ok...\n",
    "axes[0].set_title('Year 0')\n",
    "\n",
    "axes[1].contourf(lon, lat, temperature_norm[-1], transform=ccrs.PlateCarree(), cmap='coolwarm')  # didn't use transform, but looks ok...\n",
    "axes[1].set_title('Year 999')\n",
    "\n",
    "plt.show()"
   ]
  },
  {
   "cell_type": "markdown",
   "metadata": {},
   "source": [
    "## Find Vulcanic peak events"
   ]
  },
  {
   "cell_type": "code",
   "execution_count": null,
   "metadata": {},
   "outputs": [],
   "source": [
    "fig, axes = plt.subplots(1, 2, figsize=(15, 5), subplot_kw={'projection': ccrs.EckertIII()})\n",
    "for kk in [0, 1]:\n",
    "    axes[kk].set_global()\n",
    "    axes[kk].coastlines()\n",
    "\n",
    "axes[0].contourf(lon, lat, temperature_norm[np.argmax(VUL)],transform=ccrs.PlateCarree(), cmap='coolwarm')  # didn't use transform, but looks ok...\n",
    "axes[0].set_title(f'Max Volcanic, year {np.argmax(VUL)}')\n",
    "\n",
    "axes[1].contourf(lon, lat, temperature_norm[np.argmax(SUN)],transform=ccrs.PlateCarree(), cmap='coolwarm')  # didn't use transform, but looks ok...\n",
    "axes[1].set_title(f'Max Sun, year {np.argmax(SUN)}')\n",
    "\n",
    "plt.show()"
   ]
  },
  {
   "cell_type": "code",
   "execution_count": null,
   "metadata": {},
   "outputs": [],
   "source": [
    "fig, axes = plt.subplots(1, 2, figsize=(15, 5), subplot_kw={'projection': ccrs.PlateCarree()})\n",
    "for kk in [0, 1]:\n",
    "    axes[kk].set_global()\n",
    "    axes[kk].coastlines()\n",
    "\n",
    "axes[0].contourf(lon, lat, temperature_norm[260], cmap='coolwarm')  # didn't use transform, but looks ok...\n",
    "axes[0].set_title(f'Max Volcanic, year {260}')\n",
    "\n",
    "axes[1].contourf(lon, lat, temperature_norm[811], cmap='coolwarm')  # didn't use transform, but looks ok...\n",
    "axes[1].set_title(f'Max Sun, year {811}')\n",
    "\n",
    "plt.show()"
   ]
  },
  {
   "cell_type": "code",
   "execution_count": null,
   "metadata": {},
   "outputs": [],
   "source": []
  }
 ],
 "metadata": {
  "kernelspec": {
   "display_name": "Python [conda env:HIDA] *",
   "language": "python",
   "name": "conda-env-HIDA-py"
  },
  "language_info": {
   "codemirror_mode": {
    "name": "ipython",
    "version": 3
   },
   "file_extension": ".py",
   "mimetype": "text/x-python",
   "name": "python",
   "nbconvert_exporter": "python",
   "pygments_lexer": "ipython3",
   "version": "3.7.7"
  }
 },
 "nbformat": 4,
 "nbformat_minor": 4
}
