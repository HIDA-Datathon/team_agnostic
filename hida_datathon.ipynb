{
  "nbformat": 4,
  "nbformat_minor": 0,
  "metadata": {
    "colab": {
      "name": "hida-datathon.ipynb",
      "provenance": [],
      "collapsed_sections": []
    },
    "kernelspec": {
      "name": "python3",
      "display_name": "Python 3"
    }
  },
  "cells": [
    {
      "cell_type": "code",
      "metadata": {
        "id": "gXh9QHVcaURv",
        "colab_type": "code",
        "outputId": "d7b98c95-8ff5-4931-e8c3-57a2a6214714",
        "colab": {
          "base_uri": "https://localhost:8080/",
          "height": 275
        }
      },
      "source": [
        "from google.colab import drive\n",
        "drive.mount('/content/drive')\n",
        "\n",
        "!pip install netCDF4\n",
        "\n",
        "from matplotlib import pyplot as plt\n",
        "from netCDF4 import Dataset\n",
        "from pathlib import Path\n",
        "import xarray as xr\n",
        "import pandas as pd\n",
        "import numpy as np\n",
        "\n",
        "datathon = Path('drive/My Drive/colab/hida-datathon')"
      ],
      "execution_count": 1,
      "outputs": [
        {
          "output_type": "stream",
          "text": [
            "Go to this URL in a browser: https://accounts.google.com/o/oauth2/auth?client_id=947318989803-6bn6qk8qdgf4n4g3pfee6491hc0brc4i.apps.googleusercontent.com&redirect_uri=urn%3aietf%3awg%3aoauth%3a2.0%3aoob&response_type=code&scope=email%20https%3a%2f%2fwww.googleapis.com%2fauth%2fdocs.test%20https%3a%2f%2fwww.googleapis.com%2fauth%2fdrive%20https%3a%2f%2fwww.googleapis.com%2fauth%2fdrive.photos.readonly%20https%3a%2f%2fwww.googleapis.com%2fauth%2fpeopleapi.readonly\n",
            "\n",
            "Enter your authorization code:\n",
            "··········\n",
            "Mounted at /content/drive\n",
            "Collecting netCDF4\n",
            "\u001b[?25l  Downloading https://files.pythonhosted.org/packages/35/4f/d49fe0c65dea4d2ebfdc602d3e3d2a45a172255c151f4497c43f6d94a5f6/netCDF4-1.5.3-cp36-cp36m-manylinux1_x86_64.whl (4.1MB)\n",
            "\u001b[K     |████████████████████████████████| 4.1MB 2.8MB/s \n",
            "\u001b[?25hRequirement already satisfied: numpy>=1.7 in /usr/local/lib/python3.6/dist-packages (from netCDF4) (1.18.2)\n",
            "Collecting cftime\n",
            "\u001b[?25l  Downloading https://files.pythonhosted.org/packages/a0/ff/38302691a715e59084e71464ffc4288d0513f51b4baca4f6c1b5bd865ede/cftime-1.1.1.2-cp36-cp36m-manylinux1_x86_64.whl (328kB)\n",
            "\u001b[K     |████████████████████████████████| 337kB 50.0MB/s \n",
            "\u001b[?25hInstalling collected packages: cftime, netCDF4\n",
            "Successfully installed cftime-1.1.1.2 netCDF4-1.5.3\n"
          ],
          "name": "stdout"
        }
      ]
    },
    {
      "cell_type": "markdown",
      "metadata": {
        "id": "nsdbw5dnhm41",
        "colab_type": "text"
      },
      "source": [
        "Integrated from [HIDA Datathon](https://github.com/HIDA-Datathon/Climate_Model_Data/blob/master/common.py) and [netCDF_simon](https://github.com/timohouben/hida-datathon-ufz/blob/master/netCDF_simon.ipynb)"
      ]
    },
    {
      "cell_type": "code",
      "metadata": {
        "id": "0TxgVFtchieo",
        "colab_type": "code",
        "colab": {}
      },
      "source": [
        "def get_solar_data():\n",
        "    data = Dataset(datathon / 'data/Solar_forcing_1st_mill.nc', 'r', format='NETCDF4')\n",
        "    t = data.variables['time'][:]\n",
        "    TSI = data.variables['TSI'][:, 0, 0]\n",
        "    data.close()\n",
        "    return t, TSI\n",
        "\n",
        "\n",
        "def get_volcanic_data():\n",
        "    data = Dataset(datathon / 'data/Volc_Forc_AOD_1st_mill.nc', 'r', format='NETCDF4')\n",
        "    t = data.variables['time'][:]\n",
        "    AOD = data.variables['AOD'][:, 0, 0]\n",
        "    data.close()\n",
        "    return t, AOD\n",
        "\n",
        "\n",
        "def get_geodata(number):\n",
        "    filename = 'data/T2m_R{}_ym_1stMill.nc'.format(number)\n",
        "    data = Dataset(datathon / filename, 'r', format='NETCDF4')\n",
        "    t = data.variables['time'][:]\n",
        "    lon = data.variables['lon'][:]\n",
        "    lat = data.variables['lat'][:]\n",
        "    T2m = data.variables['T2m'][:, :, :]\n",
        "    data.close()\n",
        "    return t, lon, lat, T2m\n",
        "\n",
        "\n",
        "def plot_forcing():\n",
        "    t, TSI = get_solar_data()\n",
        "    t, AOD = get_volcanic_data()\n",
        "\n",
        "    plt.figure()\n",
        "    plt.subplot(2, 1, 1)\n",
        "    plt.plot(t, TSI)\n",
        "    plt.subplot(2, 1, 2)\n",
        "    plt.plot(t, AOD)\n",
        "\n",
        "\n",
        "def plot_geodata(t_index, data):\n",
        "    plt.figure()\n",
        "    plt.imshow(data[t_index, :, :], cmap='jet')"
      ],
      "execution_count": 0,
      "outputs": []
    },
    {
      "cell_type": "code",
      "metadata": {
        "id": "i00BurQoabaZ",
        "colab_type": "code",
        "colab": {}
      },
      "source": [
        "# a latitude threshold to split data into zones, ~23 degrees\n",
        "zone_threshold = 23.43666"
      ],
      "execution_count": 0,
      "outputs": []
    },
    {
      "cell_type": "code",
      "metadata": {
        "id": "NiaTa9QfibH2",
        "colab_type": "code",
        "colab": {}
      },
      "source": [
        "# t2m is of size (999, 96, 192), [time, lat, lon] \n",
        "t_geo, lon, lat, t2m = get_geodata(1)\n",
        "t_solar, tsi = get_solar_data()\n",
        "t_vulcanic, aod = get_volcanic_data()"
      ],
      "execution_count": 0,
      "outputs": []
    },
    {
      "cell_type": "markdown",
      "metadata": {
        "id": "CG52r0l4el45",
        "colab_type": "text"
      },
      "source": [
        ""
      ]
    },
    {
      "cell_type": "code",
      "metadata": {
        "id": "a-l6_yWbe-hN",
        "colab_type": "code",
        "colab": {
          "base_uri": "https://localhost:8080/",
          "height": 425
        },
        "outputId": "b835a65c-3de4-42ab-efad-aa45d4f38f9d"
      },
      "source": [
        "# constant threshold to detect erruptions\n",
        "threshold = .01\n",
        "erruptions = []\n",
        "erruption = False\n",
        "\n",
        "for idx, val in enumerate((aod > threshold).astype(int)):\n",
        "  if (val == 1) and not erruption:\n",
        "    erruption = True\n",
        "    start = idx\n",
        "    acc = 1\n",
        "  elif (val == 0) and erruption:\n",
        "    erruptions.append((start, acc))\n",
        "    erruption = False\n",
        "  elif (val == 1) and erruption:\n",
        "    acc += 1\n",
        "\n",
        "\n",
        "print(\"How many erruptions?\", len(erruptions))\n",
        "print(\"When did they happen?\")\n",
        "erruption_slices = []\n",
        "window_size = 5\n",
        "for idx, (start, length) in enumerate(erruptions):\n",
        "  print(idx+1, start, \":\", start + window_size, length)\n",
        "  erruption_slices.append(slice(start, start + window_size))"
      ],
      "execution_count": 11,
      "outputs": [
        {
          "output_type": "stream",
          "text": [
            "How many erruptions? 22\n",
            "When did they happen?\n",
            "1 162 : 167 5\n",
            "2 212 : 217 3\n",
            "3 231 : 236 3\n",
            "4 260 : 265 5\n",
            "5 297 : 302 4\n",
            "6 336 : 341 3\n",
            "7 352 : 357 2\n",
            "8 385 : 390 3\n",
            "9 425 : 430 5\n",
            "10 527 : 532 8\n",
            "11 564 : 569 5\n",
            "12 579 : 584 2\n",
            "13 673 : 678 7\n",
            "14 689 : 694 2\n",
            "15 740 : 745 5\n",
            "16 746 : 751 4\n",
            "17 810 : 815 5\n",
            "18 852 : 857 2\n",
            "19 895 : 900 1\n",
            "20 912 : 917 4\n",
            "21 924 : 929 3\n",
            "22 971 : 976 4\n"
          ],
          "name": "stdout"
        }
      ]
    },
    {
      "cell_type": "code",
      "metadata": {
        "id": "c4hfyNJGe-3_",
        "colab_type": "code",
        "colab": {
          "base_uri": "https://localhost:8080/",
          "height": 68
        },
        "outputId": "e3a3cba9-dc33-49b9-c8e5-c538d0416cd7"
      },
      "source": [
        "from sklearn.metrics import roc_auc_score as auc\n",
        "from sklearn.metrics import confusion_matrix\n",
        "from sklearn.pipeline import Pipeline\n",
        "from sklearn.svm import SVC\n",
        "from sklearn.preprocessing import FunctionTransformer\n",
        "from functools import reduce \n",
        "\n",
        "def flatten(X):\n",
        "  # we need to reduce dimensions (948, 5, 96, 192) (46, 5, 96, 192)\n",
        "  return np.mean(np.mean(X, 3), 2)\n",
        "\n",
        "def in_slice(x, slice_):\n",
        "  return x >= slice_.start and x < slice_.stop\n",
        "\n",
        "def is_erruption(start, slices):\n",
        "  return (np.logical_or.reduce(list(map(lambda x: in_slice(start, x), slices)))\n",
        "  or np.logical_or.reduce(list(map(lambda x: in_slice(start+window_size, x), slices))))\n",
        "\n",
        "\n",
        "# as long as we are not using model selection or hyperparameter tuning,\n",
        "# we don't really need the validation set\n",
        "\n",
        "# out of 22 erruption cases, we choose 5 for testing, the rest is for training\n",
        "test_slices = slice(14, 19)\n",
        "\n",
        "X_train, X_test, y_train, y_test = [], [], [], []\n",
        "for i in range(t2m.shape[0] - window_size):\n",
        "  if not is_erruption(i, erruption_slices[test_slices]):\n",
        "    X_train.append(t2m[i:i+window_size])\n",
        "    y_train.append(1 if is_erruption(i, erruption_slices) else 0)\n",
        "  else:\n",
        "    X_test.append(t2m[i:i+window_size])\n",
        "    y_test.append(1 if is_erruption(i, erruption_slices) else 0)\n",
        "\n",
        "for i in np.arange(0, 100, 20):\n",
        "    X_test.append(t2m[i:i+window_size])\n",
        "    y_test.append(0)\n",
        "  \n",
        "X_train = np.array(X_train)\n",
        "X_test = np.array(X_test)\n",
        "y_train = np.array(y_train)\n",
        "y_test = np.array(y_test)\n",
        "\n",
        "print(X_train.shape, X_test.shape, y_train.shape, y_test.shape)\n",
        "\n",
        "pipeline = Pipeline(steps=[\n",
        "  ('flatten_features', FunctionTransformer(flatten)),\n",
        "  ('learner', SVC(kernel=\"rbf\"))\n",
        "])\n",
        "\n",
        "clf = pipeline.fit(X_train, y_train)\n",
        "y_pred = clf.predict(X_test)\n",
        "score = auc(y_test, y_pred)\n",
        "print(score)\n",
        "\n",
        "# To check, where exactly the difficult part is,\n",
        "# we can also print a confusion matrix\n",
        "\n",
        "tn, fp, fn, tp = confusion_matrix(y_test, y_pred).ravel()\n",
        "print(\"TP: {:>3}, TN: {:>3}, FP: {:>3}, FN: {:>3}\".format(tp, tn, fp, fn))"
      ],
      "execution_count": 31,
      "outputs": [
        {
          "output_type": "stream",
          "text": [
            "(948, 5, 96, 192) (51, 5, 96, 192) (948,) (51,)\n",
            "0.6739130434782609\n",
            "TP:  16, TN:   5, FP:   0, FN:  30\n"
          ],
          "name": "stdout"
        }
      ]
    },
    {
      "cell_type": "code",
      "metadata": {
        "id": "FZgaUBRBfWe6",
        "colab_type": "code",
        "colab": {}
      },
      "source": [
        "def to_zone(x):\n",
        "  return \"N\" if x >= zone_threshold else \"M\" if x > -1 * zone_threshold else \"S\"\n",
        "\n",
        "\n",
        "zones = np.array(list(map(to_zone, lat)))\n",
        "zones"
      ],
      "execution_count": 0,
      "outputs": []
    },
    {
      "cell_type": "code",
      "metadata": {
        "id": "c3sE6GaKb_76",
        "colab_type": "code",
        "outputId": "143d32b9-75fe-411a-826b-b4bc74ba86d9",
        "colab": {
          "base_uri": "https://localhost:8080/",
          "height": 278
        }
      },
      "source": [
        "%matplotlib inline\n",
        "\n",
        "plt.plot(t_vulcanic, aod)\n",
        "plt.show()"
      ],
      "execution_count": 0,
      "outputs": [
        {
          "output_type": "display_data",
          "data": {
            "image/png": "[encoded data removed]",
            "text/plain": [
              "<Figure size 432x288 with 1 Axes>"
            ]
          },
          "metadata": {
            "tags": []
          }
        }
      ]
    },
    {
      "cell_type": "code",
      "metadata": {
        "id": "EeXQ7dn0qmcV",
        "colab_type": "code",
        "outputId": "d6ab268f-8714-4384-cc8e-6cd68452192e",
        "colab": {
          "base_uri": "https://localhost:8080/",
          "height": 234
        }
      },
      "source": [
        "def binning2D(df, agg_fn=np.mean, lat_bins=30, lon_bins=10):\n",
        "  # dataframe with attributes lat, lon, time, T2m\n",
        "  # lon = [0, 360]\n",
        "  # lat = [-90, 90]\n",
        "  lat_bin_size, lon_bin_size = 180. / lat_bins, 360. / lon_bins\n",
        "  df['lat_bin'] = (df['lat'] + 90) // lat_bin_size\n",
        "  df['lon_bin'] = df['lon'] // lon_bin_size\n",
        "  df.groupby(['time', 'lat_bin', 'lon_bin']).agg({'T2m': agg_fn})\n",
        "  return df[['time', 'lat_bin', 'lon_bin', 'T2m']]\n",
        "\n",
        "df = xr.open_dataset(datathon / 'data/T2m_R1_ym_1stMill.nc').to_dataframe()\n",
        "binning2D(df.reset_index())"
      ],
      "execution_count": 0,
      "outputs": [
        {
          "output_type": "error",
          "ename": "NameError",
          "evalue": "ignored",
          "traceback": [
            "\u001b[0;31m---------------------------------------------------------------------------\u001b[0m",
            "\u001b[0;31mNameError\u001b[0m                                 Traceback (most recent call last)",
            "\u001b[0;32m<ipython-input-1-ff97aef937ea>\u001b[0m in \u001b[0;36m<module>\u001b[0;34m()\u001b[0m\n\u001b[0;32m----> 1\u001b[0;31m \u001b[0;32mdef\u001b[0m \u001b[0mbinning2D\u001b[0m\u001b[0;34m(\u001b[0m\u001b[0mdf\u001b[0m\u001b[0;34m,\u001b[0m \u001b[0magg_fn\u001b[0m\u001b[0;34m=\u001b[0m\u001b[0mnp\u001b[0m\u001b[0;34m.\u001b[0m\u001b[0mmean\u001b[0m\u001b[0;34m,\u001b[0m \u001b[0mlat_bins\u001b[0m\u001b[0;34m=\u001b[0m\u001b[0;36m30\u001b[0m\u001b[0;34m,\u001b[0m \u001b[0mlon_bins\u001b[0m\u001b[0;34m=\u001b[0m\u001b[0;36m10\u001b[0m\u001b[0;34m)\u001b[0m\u001b[0;34m:\u001b[0m\u001b[0;34m\u001b[0m\u001b[0;34m\u001b[0m\u001b[0m\n\u001b[0m\u001b[1;32m      2\u001b[0m   \u001b[0;31m# dataframe with attributes lat, lon, time, T2m\u001b[0m\u001b[0;34m\u001b[0m\u001b[0;34m\u001b[0m\u001b[0;34m\u001b[0m\u001b[0m\n\u001b[1;32m      3\u001b[0m   \u001b[0;31m# lon = [0, 360]\u001b[0m\u001b[0;34m\u001b[0m\u001b[0;34m\u001b[0m\u001b[0;34m\u001b[0m\u001b[0m\n\u001b[1;32m      4\u001b[0m   \u001b[0;31m# lat = [-90, 90]\u001b[0m\u001b[0;34m\u001b[0m\u001b[0;34m\u001b[0m\u001b[0;34m\u001b[0m\u001b[0m\n\u001b[1;32m      5\u001b[0m   \u001b[0mlat_bin_size\u001b[0m\u001b[0;34m,\u001b[0m \u001b[0mlon_bin_size\u001b[0m \u001b[0;34m=\u001b[0m \u001b[0;36m180.\u001b[0m \u001b[0;34m/\u001b[0m \u001b[0mlat_bins\u001b[0m\u001b[0;34m,\u001b[0m \u001b[0;36m360.\u001b[0m \u001b[0;34m/\u001b[0m \u001b[0mlon_bins\u001b[0m\u001b[0;34m\u001b[0m\u001b[0;34m\u001b[0m\u001b[0m\n",
            "\u001b[0;31mNameError\u001b[0m: name 'np' is not defined"
          ]
        }
      ]
    }
  ]
}